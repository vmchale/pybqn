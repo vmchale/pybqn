{
 "cells": [
  {
   "cell_type": "code",
   "execution_count": 1,
   "id": "6e71513b",
   "metadata": {},
   "outputs": [],
   "source": [
    "import bqn"
   ]
  },
  {
   "cell_type": "code",
   "execution_count": 2,
   "id": "4dc4a010",
   "metadata": {},
   "outputs": [],
   "source": [
    "import numpy as np"
   ]
  },
  {
   "cell_type": "code",
   "execution_count": 3,
   "id": "fb211748",
   "metadata": {},
   "outputs": [
    {
     "data": {
      "text/plain": [
       "array([1, 4, 6, 4, 1], dtype=int8)"
      ]
     },
     "execution_count": 3,
     "metadata": {},
     "output_type": "execute_result"
    }
   ],
   "source": [
    "bqn.bqn('{𝕨(+´¨+⌜○↕○≠⊔×⌜)𝕩}',np.array([1,2,1],dtype=np.int32),np.array([1,2,1],dtype=np.int32))"
   ]
  }
 ],
 "metadata": {
  "kernelspec": {
   "display_name": "Python 3 (ipykernel)",
   "language": "python",
   "name": "python3"
  },
  "language_info": {
   "codemirror_mode": {
    "name": "ipython",
    "version": 3
   },
   "file_extension": ".py",
   "mimetype": "text/x-python",
   "name": "python",
   "nbconvert_exporter": "python",
   "pygments_lexer": "ipython3",
   "version": "3.12.4"
  }
 },
 "nbformat": 4,
 "nbformat_minor": 5
}
